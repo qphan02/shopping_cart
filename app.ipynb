{
 "cells": [
  {
   "cell_type": "code",
   "execution_count": 11,
   "metadata": {},
   "outputs": [],
   "source": [
    "import sqlite3\n",
    "from flask import Flask, session, render_template, redirect, url_for, request\n",
    "\n",
    "app = Flask('app')\n",
    "app.secret_key = \"password123\"\n",
    "\n",
    "db_fname = \"store.db\"\n",
    "home_fname = \"home.html\"\n",
    "login_fname = \"login.html\"\n",
    "product_fname = \"product.html\""
   ]
  },
  {
   "cell_type": "code",
   "execution_count": 12,
   "metadata": {},
   "outputs": [
    {
     "name": "stdout",
     "output_type": "stream",
     "text": [
      "None\n",
      "Microsoft\n"
     ]
    }
   ],
   "source": [
    "@app.route('/', methods=['GET', 'POST'])\n",
    "def home(str = None):\n",
    "    print(str)\n",
    "    # connect to the database\n",
    "    connection = sqlite3.connect(db_fname);\n",
    "    connection.row_factory = sqlite3.Row;\n",
    "    cursor = connection.cursor();\n",
    "    \n",
    "    # retrieve database\n",
    "    data = cursor.execute(\"SELECT * FROM product\")\n",
    "    products = data.fetchall()\n",
    "    # products[1] = products[0]\n",
    "    if 'MSFT' in products:\n",
    "        print(\"Yes\")\n",
    "    print(products[1][1])\n",
    "    \n",
    "    # return render_template(home_fname)\n",
    "home()"
   ]
  },
  {
   "cell_type": "code",
   "execution_count": 16,
   "metadata": {},
   "outputs": [
    {
     "name": "stdout",
     "output_type": "stream",
     "text": [
      "('%hello%', '%hello%', '%hello%')\n"
     ]
    }
   ],
   "source": [
    "a = 'hello'\n",
    "b = ('%' + a + '%',)*3\n",
    "print(b)"
   ]
  },
  {
   "cell_type": "code",
   "execution_count": 20,
   "metadata": {},
   "outputs": [
    {
     "name": "stdout",
     "output_type": "stream",
     "text": [
      "[3, 2, [3, 3], [2, 1]]\n"
     ]
    }
   ],
   "source": [
    "a = [3,2]\n",
    "b = [3,3]\n",
    "c = [2,1]\n",
    "a.append(b)\n",
    "a.append(c)\n",
    "print(a)"
   ]
  }
 ],
 "metadata": {
  "interpreter": {
   "hash": "31f2aee4e71d21fbe5cf8b01ff0e069b9275f58929596ceb00d14d90e3e16cd6"
  },
  "kernelspec": {
   "display_name": "Python 3.8.9 64-bit",
   "language": "python",
   "name": "python3"
  },
  "language_info": {
   "codemirror_mode": {
    "name": "ipython",
    "version": 3
   },
   "file_extension": ".py",
   "mimetype": "text/x-python",
   "name": "python",
   "nbconvert_exporter": "python",
   "pygments_lexer": "ipython3",
   "version": "3.8.9"
  },
  "orig_nbformat": 4
 },
 "nbformat": 4,
 "nbformat_minor": 2
}
